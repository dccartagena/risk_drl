{
 "cells": [
  {
   "cell_type": "markdown",
   "metadata": {},
   "source": [
    "# Test cliff environment"
   ]
  },
  {
   "cell_type": "code",
   "execution_count": 1,
   "metadata": {},
   "outputs": [],
   "source": [
    "import gym\n",
    "from test_env import cliff_env"
   ]
  },
  {
   "cell_type": "code",
   "execution_count": 2,
   "metadata": {},
   "outputs": [
    {
     "name": "stdout",
     "output_type": "stream",
     "text": [
      "The action space shape is:  4\n",
      "The observation space shape is:  None\n"
     ]
    }
   ],
   "source": [
    "env = cliff_env()\n",
    "print('The action space shape is: ', env.action_space.n)\n",
    "\n",
    "print('The observation space shape is: ',env.observation_space.shape)"
   ]
  },
  {
   "cell_type": "code",
   "execution_count": null,
   "metadata": {},
   "outputs": [],
   "source": [
    "env.action_space.sample()"
   ]
  },
  {
   "cell_type": "code",
   "execution_count": 3,
   "metadata": {},
   "outputs": [
    {
     "data": {
      "text/plain": [
       "OrderedDict([('position_x', 1),\n",
       "             ('position_y', 2),\n",
       "             ('risk', array([0.95410013], dtype=float32))])"
      ]
     },
     "execution_count": 3,
     "metadata": {},
     "output_type": "execute_result"
    }
   ],
   "source": [
    "env.observation_space.sample()"
   ]
  },
  {
   "cell_type": "code",
   "execution_count": 6,
   "metadata": {},
   "outputs": [
    {
     "data": {
      "text/plain": [
       "array([[1., 1., 1., 1.],\n",
       "       [0., 0., 0., 0.],\n",
       "       [0., 0., 0., 0.],\n",
       "       [2., 3., 3., 2.]])"
      ]
     },
     "execution_count": 6,
     "metadata": {},
     "output_type": "execute_result"
    }
   ],
   "source": [
    "env.map"
   ]
  },
  {
   "cell_type": "code",
   "execution_count": 7,
   "metadata": {},
   "outputs": [
    {
     "ename": "AttributeError",
     "evalue": "'cliff_env' object has no attribute 'observation_shape'",
     "output_type": "error",
     "traceback": [
      "\u001b[0;31m---------------------------------------------------------------------------\u001b[0m",
      "\u001b[0;31mAttributeError\u001b[0m                            Traceback (most recent call last)",
      "\u001b[1;32m/Users/juandc/Documents/GitHub/risk_drl/test_env.ipynb Cell 7\u001b[0m in \u001b[0;36m<cell line: 1>\u001b[0;34m()\u001b[0m\n\u001b[0;32m----> <a href='vscode-notebook-cell:/Users/juandc/Documents/GitHub/risk_drl/test_env.ipynb#X12sZmlsZQ%3D%3D?line=0'>1</a>\u001b[0m env\u001b[39m.\u001b[39;49mreset()\n",
      "File \u001b[0;32m~/Documents/GitHub/risk_drl/test_env.py:110\u001b[0m, in \u001b[0;36mcliff_env.reset\u001b[0;34m(self)\u001b[0m\n\u001b[1;32m    108\u001b[0m \u001b[39mdef\u001b[39;00m \u001b[39mreset\u001b[39m(\u001b[39mself\u001b[39m):\n\u001b[1;32m    109\u001b[0m     \u001b[39m# Initial state\u001b[39;00m\n\u001b[0;32m--> 110\u001b[0m     \u001b[39mself\u001b[39m\u001b[39m.\u001b[39mstate \u001b[39m=\u001b[39m get_initial_map(\u001b[39mself\u001b[39m\u001b[39m.\u001b[39minitial_position, \u001b[39mself\u001b[39m\u001b[39m.\u001b[39mgoal_position, \u001b[39mself\u001b[39;49m\u001b[39m.\u001b[39;49mobservation_shape)\n\u001b[1;32m    112\u001b[0m     \u001b[39mpass\u001b[39;00m\n",
      "\u001b[0;31mAttributeError\u001b[0m: 'cliff_env' object has no attribute 'observation_shape'"
     ]
    }
   ],
   "source": [
    "env.reset()"
   ]
  }
 ],
 "metadata": {
  "kernelspec": {
   "display_name": "Python 3.9.13 ('rl_tutorial')",
   "language": "python",
   "name": "python3"
  },
  "language_info": {
   "codemirror_mode": {
    "name": "ipython",
    "version": 3
   },
   "file_extension": ".py",
   "mimetype": "text/x-python",
   "name": "python",
   "nbconvert_exporter": "python",
   "pygments_lexer": "ipython3",
   "version": "3.9.13"
  },
  "orig_nbformat": 4,
  "vscode": {
   "interpreter": {
    "hash": "3435e934436f39546e5e533574339c4bbe708689ab9263f727cae148e10eee1b"
   }
  }
 },
 "nbformat": 4,
 "nbformat_minor": 2
}
